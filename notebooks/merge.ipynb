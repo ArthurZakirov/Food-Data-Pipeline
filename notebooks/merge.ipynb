{
 "cells": [
  {
   "cell_type": "code",
   "execution_count": 276,
   "metadata": {},
   "outputs": [],
   "source": [
    "import pandas as pd\n",
    "import os\n",
    "\n",
    "data_path = \"../data/raw\"\n",
    "files = [\n",
    "    \"Nutrient_Health_Relationships_Step_by_Step.csv\",\n",
    "    \"Nutrient_Health_Relationships_Step_2.csv\",\n",
    "    \"Nutrient_Health_Relationships_Step_3.csv\",\n",
    "    \"Nutrient_Health_Relationships_Step_4.csv\",\n",
    "]\n",
    "\n",
    "partial_dfs = []\n",
    "for file in files:\n",
    "    path = os.path.join(data_path, file)\n",
    "    partial_df = pd.read_csv(path)\n",
    "    partial_dfs.append(partial_df)\n",
    "\n",
    "df = pd.concat(partial_dfs)\n",
    "df.reset_index(drop=True, inplace=True)\n",
    "df.to_csv(\"../data/processed/nutrient_health_outcomes.csv\", index=False)"
   ]
  },
  {
   "cell_type": "code",
   "execution_count": 271,
   "metadata": {},
   "outputs": [],
   "source": [
    "nutrient_mapping = {\n",
    "    'Calcium': 'Calcium [MG]',\n",
    "    'Choline': 'Choline [MG]',\n",
    "    'Copper': 'Copper [MG]',\n",
    "    'Folate': 'Folate [UG]',\n",
    "    'Iron': 'Iron [MG]',\n",
    "    'Magnesium': 'Magnesium [MG]',\n",
    "    'Niacin': 'Niacin [MG]',\n",
    "    'Phosphorus': 'Phosphorus [MG]',\n",
    "    'Potassium': 'Potassium [MG]',\n",
    "    'Riboflavin': 'Riboflavin [MG]',\n",
    "    'Selenium': 'Selenium [UG]',\n",
    "    'Sodium': 'Sodium [MG]',\n",
    "    'Thiamin': 'Thiamin [MG]',\n",
    "    'Vitamin A': 'Vitamin A [UG]',\n",
    "    'Vitamin B-12': 'Vitamin B-12 [UG]',\n",
    "    'Vitamin B-6': 'Vitamin B-6 [MG]',\n",
    "    'Vitamin C': 'Vitamin C [MG]',\n",
    "    'Vitamin D2/D3': 'Vitamin D2 [UG]',  # Assumed split as Vitamin D2\n",
    "    'Vitamin D2/D3': 'Vitamin D3 [UG]',  # Assumed split as Vitamin D3\n",
    "    'Vitamin E': 'Vitamin E [MG]',\n",
    "    'Vitamin K': 'Vitamin K [UG]',\n",
    "    'Zinc': 'Zinc [MG]',\n",
    "    'Biotin': 'Biotin [UG]',\n",
    "    'Iodine': 'Iodine [UG]',\n",
    "    'Manganese': 'Manganese [MG]',\n",
    "    'Molybdenum': 'Molybdenum [UG]',\n",
    "    'Omega-3': 'Omega 3 (EPA + DHA) [G]',\n",
    "    'Omega-6': 'Omega 6 [G]',\n",
    "    'Omega-3 (ALA)': 'Omega 3 (ALA) [G]'\n",
    "}\n",
    "\n",
    "# Replace the values in the DataFrame column using the mapping\n",
    "df['Nutrient'] = df['Nutrient'].map(nutrient_mapping)\n",
    "df.to_csv(\"../data/processed/nutrient_health_outcomes.csv\", index=False)"
   ]
  },
  {
   "cell_type": "code",
   "execution_count": 280,
   "metadata": {},
   "outputs": [],
   "source": [
    "df[\"Nutrient\"] = df[\"Nutrient\"].map(nutrient_mapping)"
   ]
  },
  {
   "cell_type": "code",
   "execution_count": 282,
   "metadata": {},
   "outputs": [],
   "source": [
    "df.to_csv(\"../data/processed/nutrient_health_outcomes.csv\", index=False)"
   ]
  },
  {
   "cell_type": "code",
   "execution_count": 290,
   "metadata": {},
   "outputs": [
    {
     "data": {
      "text/plain": [
       "\"['Cardiovascular Health', 'Cognitive Abilities', 'Inflammation Reduction', 'Mental Health', 'Eye Health']\""
      ]
     },
     "execution_count": 290,
     "metadata": {},
     "output_type": "execute_result"
    }
   ],
   "source": [
    "nutrient = \"Omega 3 (EPA + DHA) [G]\"\n",
    "\n",
    "str(df.groupby(\"Nutrient\").get_group(nutrient)[\"Health Outcome\"].to_list())"
   ]
  }
 ],
 "metadata": {
  "kernelspec": {
   "display_name": "env",
   "language": "python",
   "name": "python3"
  },
  "language_info": {
   "codemirror_mode": {
    "name": "ipython",
    "version": 3
   },
   "file_extension": ".py",
   "mimetype": "text/x-python",
   "name": "python",
   "nbconvert_exporter": "python",
   "pygments_lexer": "ipython3",
   "version": "3.11.7"
  }
 },
 "nbformat": 4,
 "nbformat_minor": 2
}
