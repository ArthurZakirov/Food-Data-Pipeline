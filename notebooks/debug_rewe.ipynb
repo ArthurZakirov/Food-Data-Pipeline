{
 "cells": [
  {
   "cell_type": "code",
   "execution_count": 1,
   "metadata": {},
   "outputs": [],
   "source": []
  },
  {
   "cell_type": "code",
   "execution_count": 2,
   "metadata": {},
   "outputs": [
    {
     "name": "stderr",
     "output_type": "stream",
     "text": [
      "Product Categories:   5%|▍         | 1/21 [00:03<01:01,  3.06s/it]\n",
      "\u001b[A\n",
      "Product Categories:  10%|▉         | 2/21 [00:17<03:05,  9.75s/it]\n",
      "\u001b[A\n",
      "\u001b[A\n",
      "\u001b[A\n",
      "\u001b[A\n",
      "\u001b[A\n",
      "\u001b[A\n",
      "\u001b[A"
     ]
    },
    {
     "ename": "KeyboardInterrupt",
     "evalue": "",
     "output_type": "error",
     "traceback": [
      "\u001b[1;31m---------------------------------------------------------------------------\u001b[0m",
      "\u001b[1;31mKeyboardInterrupt\u001b[0m                         Traceback (most recent call last)",
      "Cell \u001b[1;32mIn[2], line 34\u001b[0m\n\u001b[0;32m     31\u001b[0m page_df \u001b[38;5;241m=\u001b[39m scrape_product_category_data(driver\u001b[38;5;241m.\u001b[39mpage_source, next_category_name)\n\u001b[0;32m     32\u001b[0m page_dfs\u001b[38;5;241m.\u001b[39mappend(page_df)\n\u001b[1;32m---> 34\u001b[0m random_sleep()\n\u001b[0;32m     35\u001b[0m \u001b[38;5;28;01mif\u001b[39;00m go_next_page(driver) \u001b[38;5;241m==\u001b[39m \u001b[38;5;28;01mFalse\u001b[39;00m:\n\u001b[0;32m     36\u001b[0m     \u001b[38;5;28;01mbreak\u001b[39;00m\n",
      "File \u001b[1;32mc:\\Users\\arthu\\Programming\\MyFitnessPal-Data-Analysis\\src\\rewe_data_scraper.py:17\u001b[0m, in \u001b[0;36mrandom_sleep\u001b[1;34m(min_sec, max_sec)\u001b[0m\n\u001b[0;32m     15\u001b[0m \u001b[38;5;28;01mdef\u001b[39;00m \u001b[38;5;21mrandom_sleep\u001b[39m(min_sec\u001b[38;5;241m=\u001b[39m\u001b[38;5;241m1\u001b[39m, max_sec\u001b[38;5;241m=\u001b[39m\u001b[38;5;241m5\u001b[39m):\n\u001b[0;32m     16\u001b[0m \u001b[38;5;250m    \u001b[39m\u001b[38;5;124;03m\"\"\"Sleep for a random amount of time between min_sec and max_sec.\"\"\"\u001b[39;00m\n\u001b[1;32m---> 17\u001b[0m     time\u001b[38;5;241m.\u001b[39msleep(random\u001b[38;5;241m.\u001b[39muniform(min_sec, max_sec))\n",
      "\u001b[1;31mKeyboardInterrupt\u001b[0m: "
     ]
    }
   ],
   "source": [
    "import os\n",
    "import sys\n",
    "import pandas as pd\n",
    "import tqdm\n",
    "\n",
    "sys.path.append(\"..\")\n",
    "#os.chdir(os.path.join(os.getcwd(), \"..\"))\n",
    "\n",
    "from src.rewe_data_scraper import load_driver, go_to_next_category, scrape_product_category_data, go_next_page, go_back\n",
    "from src.rewe_data_scraper import get_number_of_product_categories, get_number_of_pages, random_sleep\n",
    "\n",
    "output_path = \"data/rewe_dataset.csv\"\n",
    "driver = load_driver(config_path=\"config/rewe_browser_config.json\")\n",
    "\n",
    "visited_category_names = []\n",
    "page_dfs = []\n",
    "n_categories = get_number_of_product_categories(driver)\n",
    "i_categories = 0\n",
    "\n",
    "category_bar = tqdm.tqdm(total=n_categories, desc=\"Product Categories\", leave=True)\n",
    "\n",
    "while True:\n",
    "    random_sleep()\n",
    "    next_category_name = go_to_next_category(driver, visited_category_names)\n",
    "    if next_category_name == False:\n",
    "        break\n",
    "    visited_category_names.append(next_category_name)\n",
    "\n",
    "    i_categories += 1\n",
    "    category_bar.update(1)\n",
    "    #print(f\"\\nProcessing Category: {i_categories}/{n_categories}\\n\")\n",
    "\n",
    "    i_pages = 0\n",
    "    n_pages = get_number_of_pages(driver)\n",
    "\n",
    "    page_bar = tqdm.tqdm(total=n_pages, desc=\"Pages\", leave=False)\n",
    "\n",
    "    while True:\n",
    "        random_sleep()\n",
    "        i_pages += 1\n",
    "        page_bar.update(1)\n",
    "        #print(f\"\\nProcessing Page: {i_pages}/{n_pages}\\n\")\n",
    "\n",
    "        page_df = scrape_product_category_data(driver.page_source, next_category_name)\n",
    "        page_dfs.append(page_df)\n",
    "\n",
    "        random_sleep()\n",
    "        if go_next_page(driver) == False:\n",
    "            break\n",
    "\n",
    "    while True:\n",
    "        if go_back(driver) == False:\n",
    "            break\n",
    "\n",
    "dfs = pd.concat(page_dfs, ignore_index=True)\n",
    "dfs.to_csv(output_path)\n",
    "dfs.reset_index(drop=True, inplace=True)\n",
    "driver.close()"
   ]
  },
  {
   "cell_type": "code",
   "execution_count": null,
   "metadata": {},
   "outputs": [],
   "source": [
    "# with tqdm(total=len(CATEGORIES), desc='Categories Progress', position=0) as categories_pbar:\n",
    "#         total_pages = int([button for button in buttons if '>' in button.text][-2].text)\n",
    "#         with tqdm(total=total_pages, desc=f'Page Progress for {category}', position=1, leave=False) as page_pbar:\n"
   ]
  }
 ],
 "metadata": {
  "kernelspec": {
   "display_name": "environment",
   "language": "python",
   "name": "python3"
  },
  "language_info": {
   "codemirror_mode": {
    "name": "ipython",
    "version": 3
   },
   "file_extension": ".py",
   "mimetype": "text/x-python",
   "name": "python",
   "nbconvert_exporter": "python",
   "pygments_lexer": "ipython3",
   "version": "3.11.7"
  }
 },
 "nbformat": 4,
 "nbformat_minor": 2
}
