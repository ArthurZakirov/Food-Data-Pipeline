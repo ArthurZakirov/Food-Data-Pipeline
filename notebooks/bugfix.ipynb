{
 "cells": [
  {
   "cell_type": "code",
   "execution_count": 16,
   "metadata": {},
   "outputs": [
    {
     "data": {
      "text/plain": [
       "0                                 Tomaten, roh\n",
       "1                                  Banane, roh\n",
       "2                                   Gurke, roh\n",
       "3                                Avocado, reif\n",
       "4                            Tafeltrauben, roh\n",
       "                         ...                  \n",
       "1335                 Saure Spinnenbeine, vegan\n",
       "1336                                  Walnüsse\n",
       "1337    Nusskernmischung, naturell, ungesalzen\n",
       "1338     American Style Chocolate Chip Cookies\n",
       "1339                      Haselnusskerne, ganz\n",
       "Name: Non Nutrient Data.Regulated Name, Length: 1340, dtype: object"
      ]
     },
     "execution_count": 16,
     "metadata": {},
     "output_type": "execute_result"
    }
   ],
   "source": [
    "path = \"../data/processed/merge_rewe_fdc_50_percent.csv\"\n",
    "import pandas as pd\n",
    "df = pd.read_csv(path)\n",
    "df[\"Non Nutrient Data.Regulated Name\"].str.contains"
   ]
  }
 ],
 "metadata": {
  "kernelspec": {
   "display_name": "venv",
   "language": "python",
   "name": "python3"
  },
  "language_info": {
   "codemirror_mode": {
    "name": "ipython",
    "version": 3
   },
   "file_extension": ".py",
   "mimetype": "text/x-python",
   "name": "python",
   "nbconvert_exporter": "python",
   "pygments_lexer": "ipython3",
   "version": "3.12.3"
  }
 },
 "nbformat": 4,
 "nbformat_minor": 2
}
