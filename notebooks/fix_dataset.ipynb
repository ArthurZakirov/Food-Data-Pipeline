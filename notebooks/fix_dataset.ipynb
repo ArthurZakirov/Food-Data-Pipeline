{
 "cells": [
  {
   "cell_type": "code",
   "execution_count": 11,
   "metadata": {},
   "outputs": [],
   "source": [
    "import pandas as pd\n",
    "\n",
    "path = \"../data/final/merged_rewe_fdc_insulin_time.csv\"\n",
    "\n",
    "df = pd.read_csv(path)\n",
    "col = \"Non Nutrient Data.Original Name\"\n",
    "df.loc[df[col].str.contains(\"Erdb\"),]\n",
    "xlsx_file_path =  \"../data/final/merged_rewe_fdc_insulin_time.xlsx\"\n",
    "df.to_excel(xlsx_file_path, index=False, engine='openpyxl')\n"
   ]
  },
  {
   "cell_type": "code",
   "execution_count": 5,
   "metadata": {},
   "outputs": [
    {
     "data": {
      "text/plain": [
       "'Micronutrient.Vitamin K [UG]'"
      ]
     },
     "execution_count": 5,
     "metadata": {},
     "output_type": "execute_result"
    }
   ],
   "source": [
    "# NON NUTRIENT DATA\n",
    "'Non Nutrient Data.Image URL'\n",
    "'Non Nutrient Data.Original Name'\n",
    "'Non Nutrient Data.Unit'\n",
    "'Non Nutrient Data.Amount'\n",
    "'Non Nutrient Data.Price per Unit'\n",
    "'Non Nutrient Data.Weight per Unit (g)'\n",
    "'Non Nutrient Data.Price per 100g'\n",
    "'Non Nutrient Data.Regulated Name'\n",
    "'Non Nutrient Data.Regulated Name English'\n",
    "'Non Nutrient Data.FDC Name'\n",
    "'Non Nutrient Data.Food Category'\n",
    "\n",
    "# ENEGRY\n",
    "'Energy.Energy [KCAL]'\n",
    "\n",
    "# MACRONUTRIENT (FDC)\n",
    "'Macronutrient.Carbohydrate [G]'\n",
    "'Macronutrient.Fiber [G]' \n",
    "'Macronutrient.Protein [G]'\n",
    "'Macronutrient.Saturated Fat [G]'\n",
    "'Macronutrient.Total Fat [G]'\n",
    "\n",
    "# NON NUTRIENT DATA\n",
    "'Non Nutrient Data.Fullness Factor' # FORMULA CALCULATION\n",
    "'Non Nutrient Data.Insulin Index'   # KAGGLE DATASET\n",
    "'Non Nutrient Data.Insulin Index Food Name' # KAGGLE DATASET\n",
    "'Non Nutrient Data.Preparation Time' # GPT 3.5 ESTMATION\n",
    "\n",
    "# MICRONUTRIENT (FDC)\n",
    "'Micronutrient.Calcium [MG]'\n",
    "'Micronutrient.Choline [MG]'\n",
    "'Micronutrient.Copper [MG]'\n",
    "'Micronutrient.Folate [UG]'\n",
    "'Micronutrient.Iron [MG]' \n",
    "'Micronutrient.Magnesium [MG]'\n",
    "'Micronutrient.Manganese [MG]'\n",
    "'Micronutrient.Niacin [MG]'\n",
    "'Micronutrient.Omega 3 (ALA) [G]' \n",
    "'Micronutrient.Omega 6 [G]'\n",
    "'Micronutrient.Phosphorus [MG]' \n",
    "'Micronutrient.Potassium [MG]'\n",
    "'Micronutrient.Riboflavin [MG]'\n",
    "'Micronutrient.Selenium [UG]'\n",
    "'Micronutrient.Sodium [MG]' \n",
    "'Micronutrient.Thiamin [MG]'\n",
    "'Micronutrient.Vitamin A [UG]' \n",
    "'Micronutrient.Vitamin B-12 [UG]'\n",
    "'Micronutrient.Vitamin B-6 [MG]'\n",
    "'Micronutrient.Vitamin C [MG]'\n",
    "'Micronutrient.Vitamin E [MG]'\n",
    "'Micronutrient.Zinc [MG]'\n",
    "'Micronutrient.Omega 3 (EPA + DHA) [G]'\n",
    "'Micronutrient.Vitamin K [UG]'"
   ]
  },
  {
   "cell_type": "code",
   "execution_count": 14,
   "metadata": {},
   "outputs": [
    {
     "data": {
      "text/plain": [
       "['.gitkeep',\n",
       " 'Bell_KJ_insulin_index.csv',\n",
       " 'FoodData_Central_foundation_food_csv_2024-04-18',\n",
       " 'FoodData_Central_sr_legacy_food_csv_2018-04',\n",
       " 'Foodstruct_insulin_index.csv',\n",
       " 'II_food_names.xlsx',\n",
       " 'kaggle_satiety_dataset',\n",
       " 'Nutrient_Health_Relationships_Fiber_Complete.csv',\n",
       " 'Nutrient_Health_Relationships_Macronutrients_Updated.csv',\n",
       " 'Nutrient_Health_Relationships_Step_2.csv',\n",
       " 'Nutrient_Health_Relationships_Step_3.csv',\n",
       " 'Nutrient_Health_Relationships_Step_4.csv',\n",
       " 'Nutrient_Health_Relationships_Step_by_Step.csv',\n",
       " 'rewe_dataset.csv',\n",
       " 'rewe_weights_per_stueck_list.json',\n",
       " 'Saettigung_Lebensmittel_Satiety_Index.pdf.crdownload']"
      ]
     },
     "execution_count": 14,
     "metadata": {},
     "output_type": "execute_result"
    }
   ],
   "source": [
    "import os\n",
    "path = \"../data/raw\"\n",
    "\n",
    "[\n",
    " 'Nutrient_Health_Relationships_Fiber_Complete.csv',\n",
    " 'Nutrient_Health_Relationships_Macronutrients_Updated.csv',\n",
    " 'Nutrient_Health_Relationships_Step_2.csv',\n",
    " 'Nutrient_Health_Relationships_Step_3.csv',\n",
    " 'Nutrient_Health_Relationships_Step_4.csv',\n",
    " 'Nutrient_Health_Relationships_Step_by_Step.csv']"
   ]
  }
 ],
 "metadata": {
  "kernelspec": {
   "display_name": "env",
   "language": "python",
   "name": "python3"
  },
  "language_info": {
   "codemirror_mode": {
    "name": "ipython",
    "version": 3
   },
   "file_extension": ".py",
   "mimetype": "text/x-python",
   "name": "python",
   "nbconvert_exporter": "python",
   "pygments_lexer": "ipython3",
   "version": "3.11.7"
  }
 },
 "nbformat": 4,
 "nbformat_minor": 2
}
