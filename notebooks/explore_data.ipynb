{
 "cells": [
  {
   "cell_type": "code",
   "execution_count": 1,
   "metadata": {},
   "outputs": [
    {
     "ename": "ValueError",
     "evalue": "not enough values to unpack (expected 2, got 1)",
     "output_type": "error",
     "traceback": [
      "\u001b[1;31m---------------------------------------------------------------------------\u001b[0m",
      "\u001b[1;31mValueError\u001b[0m                                Traceback (most recent call last)",
      "Cell \u001b[1;32mIn[1], line 13\u001b[0m\n\u001b[0;32m     10\u001b[0m username \u001b[38;5;241m=\u001b[39m os\u001b[38;5;241m.\u001b[39mgetenv(\u001b[38;5;124m\"\u001b[39m\u001b[38;5;124mUSERNAME\u001b[39m\u001b[38;5;124m\"\u001b[39m)\n\u001b[0;32m     11\u001b[0m password \u001b[38;5;241m=\u001b[39m os\u001b[38;5;241m.\u001b[39mgetenv(\u001b[38;5;124m\"\u001b[39m\u001b[38;5;124mPASSWORD\u001b[39m\u001b[38;5;124m\"\u001b[39m)\n\u001b[1;32m---> 13\u001b[0m myfitnesspal\u001b[38;5;241m.\u001b[39mClient(username, password)\n",
      "File \u001b[1;32mc:\\Users\\arthu\\anaconda3\\envs\\environment\\Lib\\site-packages\\myfitnesspal\\client.py:89\u001b[0m, in \u001b[0;36mClient.__init__\u001b[1;34m(self, cookiejar, unit_aware, log_requests_to)\u001b[0m\n\u001b[0;32m     83\u001b[0m \u001b[38;5;28mself\u001b[39m\u001b[38;5;241m.\u001b[39msession\u001b[38;5;241m.\u001b[39mheaders\u001b[38;5;241m.\u001b[39mupdate(\n\u001b[0;32m     84\u001b[0m     {\n\u001b[0;32m     85\u001b[0m         \u001b[38;5;124m\"\u001b[39m\u001b[38;5;124mUser-Agent\u001b[39m\u001b[38;5;124m\"\u001b[39m: \u001b[38;5;124m\"\u001b[39m\u001b[38;5;124mMozilla/5.0 (Windows NT 10.0; Win64; x64) AppleWebKit/537.36 (KHTML, like Gecko) Chrome/88.0.4324.104 Safari/537.36\u001b[39m\u001b[38;5;124m\"\u001b[39m\n\u001b[0;32m     86\u001b[0m     }\n\u001b[0;32m     87\u001b[0m )\n\u001b[0;32m     88\u001b[0m \u001b[38;5;28;01mif\u001b[39;00m cookiejar \u001b[38;5;129;01mis\u001b[39;00m \u001b[38;5;129;01mnot\u001b[39;00m \u001b[38;5;28;01mNone\u001b[39;00m:\n\u001b[1;32m---> 89\u001b[0m     \u001b[38;5;28mself\u001b[39m\u001b[38;5;241m.\u001b[39msession\u001b[38;5;241m.\u001b[39mcookies\u001b[38;5;241m.\u001b[39mupdate(cookiejar)\n\u001b[0;32m     90\u001b[0m \u001b[38;5;28;01melse\u001b[39;00m:\n\u001b[0;32m     91\u001b[0m     \u001b[38;5;28;01mfor\u001b[39;00m domain_name \u001b[38;5;129;01min\u001b[39;00m \u001b[38;5;28mself\u001b[39m\u001b[38;5;241m.\u001b[39mCOOKIE_DOMAINS:\n",
      "File \u001b[1;32mc:\\Users\\arthu\\anaconda3\\envs\\environment\\Lib\\site-packages\\requests\\cookies.py:364\u001b[0m, in \u001b[0;36mRequestsCookieJar.update\u001b[1;34m(self, other)\u001b[0m\n\u001b[0;32m    362\u001b[0m         \u001b[38;5;28mself\u001b[39m\u001b[38;5;241m.\u001b[39mset_cookie(copy\u001b[38;5;241m.\u001b[39mcopy(cookie))\n\u001b[0;32m    363\u001b[0m \u001b[38;5;28;01melse\u001b[39;00m:\n\u001b[1;32m--> 364\u001b[0m     \u001b[38;5;28msuper\u001b[39m()\u001b[38;5;241m.\u001b[39mupdate(other)\n",
      "File \u001b[1;32m<frozen _collections_abc>:954\u001b[0m, in \u001b[0;36mupdate\u001b[1;34m(self, other, **kwds)\u001b[0m\n",
      "\u001b[1;31mValueError\u001b[0m: not enough values to unpack (expected 2, got 1)"
     ]
    }
   ],
   "source": [
    "import os\n",
    "import dotenv\n",
    "import myfitnesspal\n",
    "import browser_cookie3\n",
    "\n",
    "\n",
    "os.chdir(os.path.join(os.getcwd(), \"..\"))\n",
    "dotenv.load_dotenv()\n",
    "\n",
    "username = os.getenv(\"USERNAME\")\n",
    "password = os.getenv(\"PASSWORD\")\n",
    "\n",
    "myfitnesspal.Client(username, password)\n",
    "\n",
    "\n",
    "# cookies = browser_cookie3.load(domain_name='myfitnesspal.com')\n",
    "# client = myfitnesspal.Client(cookiejar=cookies)\n"
   ]
  }
 ],
 "metadata": {
  "kernelspec": {
   "display_name": "environment",
   "language": "python",
   "name": "python3"
  },
  "language_info": {
   "codemirror_mode": {
    "name": "ipython",
    "version": 3
   },
   "file_extension": ".py",
   "mimetype": "text/x-python",
   "name": "python",
   "nbconvert_exporter": "python",
   "pygments_lexer": "ipython3",
   "version": "3.11.7"
  }
 },
 "nbformat": 4,
 "nbformat_minor": 2
}
