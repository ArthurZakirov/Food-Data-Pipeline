{
 "cells": [
  {
   "cell_type": "code",
   "execution_count": 13,
   "metadata": {},
   "outputs": [],
   "source": [
    "import myfitnesspal\n",
    "import browser_cookie3\n",
    "import http.cookiejar\n",
    "\n",
    "cj_browser = browser_cookie3.chrome()\n",
    "\n",
    "# Step 2: Create a new cookiejar\n",
    "cj = http.cookiejar.CookieJar()\n",
    "\n",
    "# Step 3: Transfer cookies from cj_browser to cj\n",
    "for cookie in cj_browser:\n",
    "    cj.set_cookie(cookie)\n",
    "\n",
    "client = myfitnesspal.Client(cookiejar=cj, unit_aware=True)"
   ]
  },
  {
   "cell_type": "code",
   "execution_count": 14,
   "metadata": {},
   "outputs": [
    {
     "name": "stdout",
     "output_type": "stream",
     "text": [
      "[<Breakfast {'calories': Energy(C=945.0), 'carbohydrates': Mass(g=112.0), 'fat': Mass(g=24.0), 'protein': Mass(g=71.0), 'sodium': Mass(mg=137.0), 'sugar': Mass(g=44.0)}>, <Lunch {'calories': Energy(C=740.0), 'carbohydrates': Mass(g=92.0), 'fat': Mass(g=21.0), 'protein': Mass(g=45.0), 'sodium': Mass(mg=24.0), 'sugar': Mass(g=13.0)}>, <Dinner {}>, <Snacks {}>]\n",
      "{'calories': Energy(C=2738.0), 'carbohydrates': Mass(g=326.0), 'fat': Mass(g=81.0), 'protein': Mass(g=177.0), 'sodium': Mass(mg=197.0), 'sugar': Mass(g=107.0)}\n",
      "0.0 ml\n"
     ]
    }
   ],
   "source": [
    "year = 2024\n",
    "month = 4\n",
    "day = 14\n",
    "\n",
    "day_data = client.get_date(year, month, day)\n",
    "print(day_data.meals)\n",
    "print(day_data.totals)\n",
    "print(day_data.water)"
   ]
  },
  {
   "cell_type": "code",
   "execution_count": 15,
   "metadata": {},
   "outputs": [
    {
     "data": {
      "text/plain": [
       "OrderedDict([(datetime.date(2024, 4, 12), 87.1),\n",
       "             (datetime.date(2024, 4, 11), 86.4),\n",
       "             (datetime.date(2024, 4, 10), 86.4),\n",
       "             (datetime.date(2024, 4, 9), 86.7),\n",
       "             (datetime.date(2024, 4, 8), 86.4),\n",
       "             (datetime.date(2024, 3, 20), 87.7)])"
      ]
     },
     "execution_count": 15,
     "metadata": {},
     "output_type": "execute_result"
    }
   ],
   "source": [
    "client.get_measurements('Weight')"
   ]
  },
  {
   "cell_type": "code",
   "execution_count": 55,
   "metadata": {},
   "outputs": [
    {
     "data": {
      "text/plain": [
       "{'net_carbs': 29.6,\n",
       " 'protein': 2.9,\n",
       " 'energy': {'unit': 'calories', 'value': 154.0},\n",
       " 'carbohydrates': 29.6,\n",
       " 'fat': 2.4,\n",
       " 'grams': 1.0}"
      ]
     },
     "execution_count": 55,
     "metadata": {},
     "output_type": "execute_result"
    }
   ],
   "source": [
    "food_search_results = client.get_food_search_results(\"Curry Express Reis\")\n",
    "select = 3\n",
    "food = food_search_results[select]\n",
    "str(food.name)\n",
    "str(food.brand)\n",
    "\n",
    "food_data = client.get_food_item_details(food.mfp_id)\n",
    "food_data.details"
   ]
  },
  {
   "cell_type": "code",
   "execution_count": 56,
   "metadata": {},
   "outputs": [
    {
     "data": {
      "text/plain": [
       "[<Original Nürnberger Rostbratwürstchen -- Bratwurst Nürnberger Rewe Bio>,\n",
       " <Original Nürnberger Rostbratwürstchen -- Ja! (Rewe)>,\n",
       " <Original Nürnberger Rostbratwürstchen -- >,\n",
       " <Original Nürnberger Rostbratwürstchen -- Penny>,\n",
       " <Original Nurnberger Rostbratwurstchen -- Ja>,\n",
       " <Original Nürnberger Rostbratwürstchen -- Dorina>,\n",
       " <original nürnberger rostbratwürstchen -- aro>,\n",
       " <Original Nürnberger Rostbratwürstchen -- Grillmeister>,\n",
       " <Original Nurnberger Rostbratwurstchen -- Gut & Gunstig  1 wurstchen>,\n",
       " <Original-nürnberger Rostbratwürstchen -- Real Quality>,\n",
       " <Bio-Rostbratwürstchen, Nürnberger Art -- Bioladen>,\n",
       " <Nürnberger Rostbratwürstchen -- Schuhbeck's>,\n",
       " <Nürnberger rostbratwürstchen -- globus>,\n",
       " <Nürnberger Rostbratwürstchen -- Real>,\n",
       " <Nürnberger Rostbratwürstchen -- Penny>,\n",
       " <Nürnberger Rostbratwürstchen -- HoWe>,\n",
       " <Nürnberger Rostbratwürstchen -- Ja!>,\n",
       " <Nürnberger Rostbratwürstchen -- Netto>,\n",
       " <Meine Original Nürnberger Rostbratwürstchen -- Sonnen Bassermann>,\n",
       " <rostbratwürstchen -- rewe>,\n",
       " <Nürnberger Rostbratwürstchen -- Howe Aldi>,\n",
       " <rostbratwürstchen -- Penny Nürnberger Würstchen>,\n",
       " <Nürnberger Rostbratwürstchen fettreduziert -- Aldi>,\n",
       " <Gebratene Nürnberger Rostbratwürstchen -- Lindtmanns>,\n",
       " <Nürnberger Rostbratwurst -- Rewe Bio>,\n",
       " <Nürnberger Rostbratwürstchen -- Aro>,\n",
       " <Nürnberger Rostbratwütstchen -- Rewe Bio>,\n",
       " <Rostbratwürstchen Nürnberger Art -- Erasco>,\n",
       " <aldı -- >,\n",
       " <Nürnberger Rostbratwürste -- Rewe Bio>,\n",
       " <Original Nürnberger Rostbratwürstchen - gegrillt mit Sauerkraut -- Wolf>,\n",
       " <Nürnberger Rostbratwürstchen -- Real Nürnberger Rostbratwürste>,\n",
       " <Nürnberger -- Rewe  21>,\n",
       " <Nürnberger Rostbratwürstchen -- Leicht Und Fit>,\n",
       " <Nürnberger Rostbratwürstchen -- Aldi Schlüters Echte>,\n",
       " <Nürnberger Würstchen -- Grill Meister Rostbratwürstchen>,\n",
       " <Nürnberger Rostbratwürstchen auf Weinsauerkraut -- Bofrost>,\n",
       " <Nürnberger Rostbratwürstchen -- Gut Drei Eichen>,\n",
       " <fettreduzierte Variante -- Aldi Nürnberger Rostbratwürstchen>,\n",
       " <Nürnberger -- bio Nürnberger>,\n",
       " <Original Nürnberger -- Aldi Bio>,\n",
       " <bio nürnberger Rostbratwurst -- rewe>,\n",
       " <Sausage (Nürnberger Rostbratwürstchen) -- Tip>,\n",
       " <Nürnberger Rostbratwürstchen 30% weniger Fett -- HoWe>,\n",
       " <Nürnberger Rostbratwürstchen auf Kartoffel-Gemüsepüree -- Aldi>,\n",
       " <Nürnberger Rostbratwürstchen 30% Fettreduziert -- Aldi (HoWe)>,\n",
       " <Gebratene Nürnberger Rostbratwürstchen Mit Senf -- Katine>,\n",
       " <Original Nürnberger Bio-Rostbratwürste -- Königshofer>,\n",
       " <Original Nürnberger Rostbratwürste -- Edeka Bio>,\n",
       " <Bio Rostbratwürstchen -- Altdorfer>,\n",
       " <Bio Rostbratwürstchen -- Alnatura>,\n",
       " <Nürnberger Rostbratwürste -- Original Nürnberger>,\n",
       " <Original  Nürnberger Rostbratwürstw -- K Bio>,\n",
       " <Bio-Original Nürnberger Rostbratwürste -- Norma>,\n",
       " <Original Nürnberger Rostbratwürste -- Real - Bio>,\n",
       " <Bio  Elisen-Lebkuchen -- Original Nürnberger>,\n",
       " <Bio Rostbratwürstchen -- Bio Bühler>,\n",
       " <Bio Nürnberger Würstchen -- Nürnberger Originale  1 Würstchen (20>,\n",
       " <Nürnberger Rostbratwürste JA -- Rewe>,\n",
       " <Bio Rostbratwürstchen -- Naturgut (Penny)>,\n",
       " <Bio Nürnberger -- Lidl>,\n",
       " <Nürnberger Rostbratwurst -- Bio Bio>,\n",
       " <belight -- original Nürnberger>,\n",
       " <Rostbratwürstchen -- Ossenbrink Rostbratwürstchen>,\n",
       " <Bio Nürnberger -- Metzgerfrisch>,\n",
       " <Rostbratwurst -- Original Nürnberger>,\n",
       " <würstchen -- original nürnberger>,\n",
       " <Nürnberger Rostbratwurst -- Original>,\n",
       " <Original Nürnberger -- Aldi>,\n",
       " <Original Nürnberger -- Belight>,\n",
       " <Original Nürnberger -- Howe>,\n",
       " <Original Nürnberger -- Dulano>,\n",
       " <Original Nürnberger -- Vw>,\n",
       " <Bio Grillplätze -- Nürnberger Bio Originale>,\n",
       " <Bio Currywurst -- Nürnberger Bio Originale>,\n",
       " <Nürnberger Rostbratwürstchen Mit Jägerkohl, Kartoffelpüree Und Majoransoße -- Lvm Kantine>,\n",
       " <Original Italienische Fusilli -- Rewe Bio>,\n",
       " <original Nürnberger Stadtwurst -- Heimatland>,\n",
       " <Original Nürnberger -- Belight (Aldi)>,\n",
       " <Original Nürnberger Rostbratwürste -- Tip>,\n",
       " <Nürnberger Rostbratwürste Bio -- HoWe>,\n",
       " <Bio Nürnberger Rostbratwürste -- Howe>,\n",
       " <Nürnberger Rostbratwürste -- Edeka Bio>,\n",
       " <Bio Nürnberger Rostbratwürste -- Lidl>,\n",
       " <Original Nürnberger Rostbratwürste -- Wolf>,\n",
       " <Original Nürnberger -- Elisen-Lebkuchen>,\n",
       " <Bio Nürnberger Rostbratwurst -- GutBio>,\n",
       " <Bio Nürnberger Rostbratwürste -- Kupfer>,\n",
       " <Bratwurst -- Bio Nürnberger Rostbratwurst  20>,\n",
       " <rostbratwurst -- Belichtung original nürnberger>,\n",
       " <Original Nürnberger Elisenlebkuchen -- Woitinek>,\n",
       " <Original Nürnberger Rostbratwürste -- HIT>,\n",
       " <Rostbratwürste -- Original Nürnberger Rostbratwurst>,\n",
       " <Kupfer - Würstchen -- Original Nürnberger - Kupfer>,\n",
       " <Original Nürnberger Rostbratwurst -- Kupfer>,\n",
       " <Original Nürnberger Rostbratwürste -- Eismann>,\n",
       " <Original Nürnberger Rostbratwürste -- lidl>,\n",
       " <Bexlight original nürnberger -- Aldi>,\n",
       " <Rostbratwürste- original Nürnberger -- Lidl>,\n",
       " <Original Nürnberger (Be Light) -- Aldi>]"
      ]
     },
     "execution_count": 56,
     "metadata": {},
     "output_type": "execute_result"
    }
   ],
   "source": [
    "client.get_food_search_results(\"REWE Bio Original Nürnberger Rostbratwürstchen\")"
   ]
  }
 ],
 "metadata": {
  "kernelspec": {
   "display_name": "environment",
   "language": "python",
   "name": "python3"
  },
  "language_info": {
   "codemirror_mode": {
    "name": "ipython",
    "version": 3
   },
   "file_extension": ".py",
   "mimetype": "text/x-python",
   "name": "python",
   "nbconvert_exporter": "python",
   "pygments_lexer": "ipython3",
   "version": "3.11.7"
  }
 },
 "nbformat": 4,
 "nbformat_minor": 2
}
