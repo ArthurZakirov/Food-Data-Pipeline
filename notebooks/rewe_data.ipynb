{
 "cells": [
  {
   "cell_type": "code",
   "execution_count": null,
   "metadata": {},
   "outputs": [],
   "source": [
    "import os\n",
    "import sys\n",
    "from src.rewe_data_scraper import scrape_product_category_data\n",
    "\n",
    "from selenium import webdriver\n",
    "from selenium.webdriver.edge.options import Options\n",
    "from selenium.webdriver.edge.service import Service\n",
    "from selenium.webdriver.common.by import By\n",
    "from selenium.webdriver.support.ui import WebDriverWait\n",
    "from selenium.webdriver.support import expected_conditions as EC\n",
    "\n",
    "sys.path.append(\"..\")\n",
    "os.chdir(os.path.join(os.getcwd()))\n",
    "\n",
    "CATEGORIES = [\n",
    "    'angebote', 'vegane-vielfalt', 'international', 'regional', 'weinfreunde',\n",
    "    'obst-gemuese', 'fleisch-fisch', 'kaese-eier-molkerei', 'tiefkuehlkost',\n",
    "    'brot-cerealien-aufstriche', 'kochen-backen', 'oele-sossen-gewuerze',\n",
    "    'fertiggerichte-konserven', 'suesses-salziges', 'kaffee-tee-kakao',\n",
    "    'getraenke-genussmittel', 'drogerie-kosmetik', 'babybedarf', 'tier',\n",
    "    'kueche-haushalt', 'haus-freizeit'\n",
    "]"
   ]
  },
  {
   "cell_type": "code",
   "execution_count": null,
   "metadata": {},
   "outputs": [],
   "source": [
    "# with open(\"data/rewe_html_1.txt\", \"r\") as f:\n",
    "#     html_content = f.read()\n",
    "\n",
    "with open(\"data/rewe_html_deine_produkte_sortiment.txt\", \"r\") as f:\n",
    "    rewe_html = f.read()\n",
    "\n",
    "dataframes = {}\n",
    "\n",
    "for category in CATEGORIES:\n",
    "    # Navigate to the category page\n",
    "    driver.get(f\"https://shop.rewe.de/c/{category}/?source=homepage-category\")"
   ]
  },
  {
   "cell_type": "code",
   "execution_count": 11,
   "metadata": {},
   "outputs": [
    {
     "ename": "TimeoutException",
     "evalue": "Message: \nStacktrace:\n\tGetHandleVerifier [0x00007FF7166E5B82+59842]\n\tMicrosoft::Applications::Events::ILogConfiguration::operator* [0x00007FF716674AB2+220434]\n\t(No symbol) [0x00007FF71649DCD7]\n\t(No symbol) [0x00007FF7164E489D]\n\t(No symbol) [0x00007FF7164E4960]\n\t(No symbol) [0x00007FF71651F587]\n\t(No symbol) [0x00007FF716503F6F]\n\t(No symbol) [0x00007FF7164DA0E7]\n\t(No symbol) [0x00007FF71651D149]\n\t(No symbol) [0x00007FF716503B93]\n\t(No symbol) [0x00007FF7164D960E]\n\t(No symbol) [0x00007FF7164D87CC]\n\t(No symbol) [0x00007FF7164D91C1]\n\tMicrosoft::Applications::Events::EventProperty::to_string [0x00007FF7168958FC+1052188]\n\t(No symbol) [0x00007FF71654FFC6]\n\tMicrosoft::Applications::Events::EventProperty::~EventProperty [0x00007FF7165F150C+37916]\n\tMicrosoft::Applications::Events::EventProperty::~EventProperty [0x00007FF7165E8E95+3493]\n\tMicrosoft::Applications::Events::EventProperty::to_string [0x00007FF716894865+1047941]\n\tMicrosoft::Applications::Events::ILogConfiguration::operator* [0x00007FF71667D2C1+255265]\n\tMicrosoft::Applications::Events::ILogConfiguration::operator* [0x00007FF7166785B4+235540]\n\tMicrosoft::Applications::Events::ILogConfiguration::operator* [0x00007FF7166786EB+235851]\n\tMicrosoft::Applications::Events::ILogConfiguration::operator* [0x00007FF71666FEE1+201025]\n\tBaseThreadInitThunk [0x00007FFF7A4F257D+29]\n\tRtlUserThreadStart [0x00007FFF7A74AA48+40]\n",
     "output_type": "error",
     "traceback": [
      "\u001b[1;31m---------------------------------------------------------------------------\u001b[0m",
      "\u001b[1;31mTimeoutException\u001b[0m                          Traceback (most recent call last)",
      "Cell \u001b[1;32mIn[11], line 14\u001b[0m\n\u001b[0;32m     12\u001b[0m \u001b[38;5;66;03m# Wait for the cookie consent button to be present\u001b[39;00m\n\u001b[0;32m     13\u001b[0m wait \u001b[38;5;241m=\u001b[39m WebDriverWait(driver, \u001b[38;5;241m10\u001b[39m)\n\u001b[1;32m---> 14\u001b[0m cookie_button \u001b[38;5;241m=\u001b[39m wait\u001b[38;5;241m.\u001b[39muntil(EC\u001b[38;5;241m.\u001b[39mpresence_of_element_located((By\u001b[38;5;241m.\u001b[39mXPATH, \u001b[38;5;124m\"\u001b[39m\u001b[38;5;124m//button[text()=\u001b[39m\u001b[38;5;124m'\u001b[39m\u001b[38;5;124mAlle erlauben\u001b[39m\u001b[38;5;124m'\u001b[39m\u001b[38;5;124m]\u001b[39m\u001b[38;5;124m\"\u001b[39m)))\n\u001b[0;32m     16\u001b[0m \u001b[38;5;66;03m# Use JavaScript to click on the cookie consent button\u001b[39;00m\n\u001b[0;32m     17\u001b[0m driver\u001b[38;5;241m.\u001b[39mexecute_script(\u001b[38;5;124m\"\u001b[39m\u001b[38;5;124marguments[0].click();\u001b[39m\u001b[38;5;124m\"\u001b[39m, cookie_button)\n",
      "File \u001b[1;32mc:\\Users\\arthu\\Anaconda3\\envs\\environment\\Lib\\site-packages\\selenium\\webdriver\\support\\wait.py:105\u001b[0m, in \u001b[0;36mWebDriverWait.until\u001b[1;34m(self, method, message)\u001b[0m\n\u001b[0;32m    103\u001b[0m     \u001b[38;5;28;01mif\u001b[39;00m time\u001b[38;5;241m.\u001b[39mmonotonic() \u001b[38;5;241m>\u001b[39m end_time:\n\u001b[0;32m    104\u001b[0m         \u001b[38;5;28;01mbreak\u001b[39;00m\n\u001b[1;32m--> 105\u001b[0m \u001b[38;5;28;01mraise\u001b[39;00m TimeoutException(message, screen, stacktrace)\n",
      "\u001b[1;31mTimeoutException\u001b[0m: Message: \nStacktrace:\n\tGetHandleVerifier [0x00007FF7166E5B82+59842]\n\tMicrosoft::Applications::Events::ILogConfiguration::operator* [0x00007FF716674AB2+220434]\n\t(No symbol) [0x00007FF71649DCD7]\n\t(No symbol) [0x00007FF7164E489D]\n\t(No symbol) [0x00007FF7164E4960]\n\t(No symbol) [0x00007FF71651F587]\n\t(No symbol) [0x00007FF716503F6F]\n\t(No symbol) [0x00007FF7164DA0E7]\n\t(No symbol) [0x00007FF71651D149]\n\t(No symbol) [0x00007FF716503B93]\n\t(No symbol) [0x00007FF7164D960E]\n\t(No symbol) [0x00007FF7164D87CC]\n\t(No symbol) [0x00007FF7164D91C1]\n\tMicrosoft::Applications::Events::EventProperty::to_string [0x00007FF7168958FC+1052188]\n\t(No symbol) [0x00007FF71654FFC6]\n\tMicrosoft::Applications::Events::EventProperty::~EventProperty [0x00007FF7165F150C+37916]\n\tMicrosoft::Applications::Events::EventProperty::~EventProperty [0x00007FF7165E8E95+3493]\n\tMicrosoft::Applications::Events::EventProperty::to_string [0x00007FF716894865+1047941]\n\tMicrosoft::Applications::Events::ILogConfiguration::operator* [0x00007FF71667D2C1+255265]\n\tMicrosoft::Applications::Events::ILogConfiguration::operator* [0x00007FF7166785B4+235540]\n\tMicrosoft::Applications::Events::ILogConfiguration::operator* [0x00007FF7166786EB+235851]\n\tMicrosoft::Applications::Events::ILogConfiguration::operator* [0x00007FF71666FEE1+201025]\n\tBaseThreadInitThunk [0x00007FFF7A4F257D+29]\n\tRtlUserThreadStart [0x00007FFF7A74AA48+40]\n"
     ]
    }
   ],
   "source": [
    "# Start Microsoft Edge with Remote Debugging:\n",
    "\n",
    "# You need to first close all instances of Microsoft Edge.\n",
    "\n",
    "# Open a command prompt or terminal.\n",
    "\n",
    "# Execute the command to run Edge with remote debugging enabled. Make sure to specify a port (e.g., 9222) and a user data directory. For example:\n",
    "\n",
    "# bash\n",
    "# Copy code\n",
    "msedge --remote-debugging-port=9222 --user-data-dir=\"C:\\path\\to\\new\\profile\"\n",
    "# Manual Login:\n",
    "\n",
    "# Once Edge opens, navigate to the REWE website.\n",
    "# Enter your credentials to log in manually. Do this in the same Edge instance that was started with the debugging flag.\n",
    "# Run Selenium Script:\n",
    "\n",
    "# After you have logged in, you can run your Selenium script. This script will connect to the already opened Edge session using the remote debugging port.\n",
    "\n",
    "# Here’s a detailed example of the Python script you would use after logging in:\n",
    "\n",
    "\n",
    "\n",
    "\n",
    "# Set up Edge options\n",
    "edge_options = Options()\n",
    "edge_options.use_chromium = True\n",
    "edge_options.add_experimental_option(\"debuggerAddress\", \"localhost:9222\")\n",
    "\n",
    "# Path to your EdgeDriver\n",
    "edge_driver_path = \"C:\\\\path\\\\to\\\\msedgedriver.exe\"\n",
    "\n",
    "# Set up driver\n",
    "service = Service(edge_driver_path)\n",
    "driver = webdriver.Edge(service=service, options=edge_options)\n",
    "\n",
    "# Now you can interact with the already opened browser where you logged in manually\n",
    "# For example, open a new tab\n",
    "driver.execute_script(\"window.open('');\")\n",
    "\n",
    "# Switch to new tab\n",
    "driver.switch_to.window(driver.window_handles[-1])\n",
    "\n",
    "# Navigate to a new URL in the new tab\n",
    "driver.get('https://shop.rewe.de/')\n",
    "\n",
    "# Perform your scraping activities here\n",
    "# ...\n",
    "\n",
    "# When done, you can close the browser\n",
    "driver.quit()\n",
    "# Perform Web Scraping:\n",
    "\n",
    "# The Selenium script will control the browser where you are already logged in. You can navigate to different pages and extract data as needed.\n",
    "# This method allows you to use an authenticated session within your automated script while ensuring that login details are entered securely and manually."
   ]
  }
 ],
 "metadata": {
  "kernelspec": {
   "display_name": "environment",
   "language": "python",
   "name": "python3"
  },
  "language_info": {
   "codemirror_mode": {
    "name": "ipython",
    "version": 3
   },
   "file_extension": ".py",
   "mimetype": "text/x-python",
   "name": "python",
   "nbconvert_exporter": "python",
   "pygments_lexer": "ipython3",
   "version": "3.11.7"
  }
 },
 "nbformat": 4,
 "nbformat_minor": 2
}
