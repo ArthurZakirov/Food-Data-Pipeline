{
 "cells": [
  {
   "cell_type": "code",
   "execution_count": 5,
   "metadata": {},
   "outputs": [
    {
     "name": "stdout",
     "output_type": "stream",
     "text": [
      "Reached the end of the pages or the next button is not clickable.\n",
      "Reached the end of the pages or the next button is not clickable.\n",
      "Reached the end of the pages or the next button is not clickable.\n",
      "Reached the end of the pages or the next button is not clickable.\n",
      "Reached the end of the pages or the next button is not clickable.\n",
      "Reached the end of the pages or the next button is not clickable.\n"
     ]
    },
    {
     "ename": "NoSuchWindowException",
     "evalue": "Message: no such window: target window already closed\nfrom unknown error: web view not found\n  (Session info: MicrosoftEdge=123.0.2420.97)\nStacktrace:\n\tGetHandleVerifier [0x00007FF7BA5E5B82+59842]\n\tMicrosoft::Applications::Events::ILogConfiguration::operator* [0x00007FF7BA574AB2+220434]\n\t(No symbol) [0x00007FF7BA39DCD7]\n\t(No symbol) [0x00007FF7BA37B537]\n\t(No symbol) [0x00007FF7BA40A139]\n\t(No symbol) [0x00007FF7BA41CA82]\n\t(No symbol) [0x00007FF7BA403B93]\n\t(No symbol) [0x00007FF7BA3D960E]\n\t(No symbol) [0x00007FF7BA3D87CC]\n\t(No symbol) [0x00007FF7BA3D91C1]\n\tMicrosoft::Applications::Events::EventProperty::to_string [0x00007FF7BA7958FC+1052188]\n\t(No symbol) [0x00007FF7BA44FFC6]\n\tMicrosoft::Applications::Events::EventProperty::~EventProperty [0x00007FF7BA4F150C+37916]\n\tMicrosoft::Applications::Events::EventProperty::~EventProperty [0x00007FF7BA4E8E95+3493]\n\tMicrosoft::Applications::Events::EventProperty::to_string [0x00007FF7BA794865+1047941]\n\tMicrosoft::Applications::Events::ILogConfiguration::operator* [0x00007FF7BA57D2C1+255265]\n\tMicrosoft::Applications::Events::ILogConfiguration::operator* [0x00007FF7BA5785B4+235540]\n\tMicrosoft::Applications::Events::ILogConfiguration::operator* [0x00007FF7BA5786EB+235851]\n\tMicrosoft::Applications::Events::ILogConfiguration::operator* [0x00007FF7BA56FEE1+201025]\n\tBaseThreadInitThunk [0x00007FFF7A4F257D+29]\n\tRtlUserThreadStart [0x00007FFF7A74AA48+40]\n",
     "output_type": "error",
     "traceback": [
      "\u001b[1;31m---------------------------------------------------------------------------\u001b[0m",
      "\u001b[1;31mNoSuchWindowException\u001b[0m                     Traceback (most recent call last)",
      "Cell \u001b[1;32mIn[5], line 55\u001b[0m\n\u001b[0;32m     52\u001b[0m \u001b[38;5;28;01mwhile\u001b[39;00m \u001b[38;5;28;01mTrue\u001b[39;00m:\n\u001b[0;32m     53\u001b[0m     \u001b[38;5;28;01mtry\u001b[39;00m:\n\u001b[0;32m     54\u001b[0m         \u001b[38;5;66;03m# Correct the waiting duration by referring to the dictionary\u001b[39;00m\n\u001b[1;32m---> 55\u001b[0m         next_button \u001b[38;5;241m=\u001b[39m WebDriverWait(driver, edge_options_dict[\u001b[38;5;124m\"\u001b[39m\u001b[38;5;124mwaiting_duration\u001b[39m\u001b[38;5;124m\"\u001b[39m])\u001b[38;5;241m.\u001b[39muntil(\n\u001b[0;32m     56\u001b[0m             EC\u001b[38;5;241m.\u001b[39melement_to_be_clickable((By\u001b[38;5;241m.\u001b[39mCLASS_NAME, \u001b[38;5;124m\"\u001b[39m\u001b[38;5;124mPostRequestGetForm_PostRequestGetFormButton\u001b[39m\u001b[38;5;124m\"\u001b[39m))\n\u001b[0;32m     57\u001b[0m         )\n\u001b[0;32m     58\u001b[0m         next_button\u001b[38;5;241m.\u001b[39mclick()\n\u001b[0;32m     60\u001b[0m         \u001b[38;5;66;03m# Wait for page to load or use explicit wait for an element that signifies the page has loaded\u001b[39;00m\n",
      "File \u001b[1;32mc:\\Users\\arthu\\Anaconda3\\envs\\environment\\Lib\\site-packages\\selenium\\webdriver\\support\\wait.py:96\u001b[0m, in \u001b[0;36mWebDriverWait.until\u001b[1;34m(self, method, message)\u001b[0m\n\u001b[0;32m     94\u001b[0m \u001b[38;5;28;01mwhile\u001b[39;00m \u001b[38;5;28;01mTrue\u001b[39;00m:\n\u001b[0;32m     95\u001b[0m     \u001b[38;5;28;01mtry\u001b[39;00m:\n\u001b[1;32m---> 96\u001b[0m         value \u001b[38;5;241m=\u001b[39m method(\u001b[38;5;28mself\u001b[39m\u001b[38;5;241m.\u001b[39m_driver)\n\u001b[0;32m     97\u001b[0m         \u001b[38;5;28;01mif\u001b[39;00m value:\n\u001b[0;32m     98\u001b[0m             \u001b[38;5;28;01mreturn\u001b[39;00m value\n",
      "File \u001b[1;32mc:\\Users\\arthu\\Anaconda3\\envs\\environment\\Lib\\site-packages\\selenium\\webdriver\\support\\expected_conditions.py:363\u001b[0m, in \u001b[0;36melement_to_be_clickable.<locals>._predicate\u001b[1;34m(driver)\u001b[0m\n\u001b[0;32m    361\u001b[0m target \u001b[38;5;241m=\u001b[39m mark\n\u001b[0;32m    362\u001b[0m \u001b[38;5;28;01mif\u001b[39;00m \u001b[38;5;129;01mnot\u001b[39;00m \u001b[38;5;28misinstance\u001b[39m(target, WebElement):  \u001b[38;5;66;03m# if given locator instead of WebElement\u001b[39;00m\n\u001b[1;32m--> 363\u001b[0m     target \u001b[38;5;241m=\u001b[39m driver\u001b[38;5;241m.\u001b[39mfind_element(\u001b[38;5;241m*\u001b[39mtarget)  \u001b[38;5;66;03m# grab element at locator\u001b[39;00m\n\u001b[0;32m    364\u001b[0m element \u001b[38;5;241m=\u001b[39m visibility_of(target)(driver)\n\u001b[0;32m    365\u001b[0m \u001b[38;5;28;01mif\u001b[39;00m element \u001b[38;5;129;01mand\u001b[39;00m element\u001b[38;5;241m.\u001b[39mis_enabled():\n",
      "File \u001b[1;32mc:\\Users\\arthu\\Anaconda3\\envs\\environment\\Lib\\site-packages\\selenium\\webdriver\\remote\\webdriver.py:741\u001b[0m, in \u001b[0;36mWebDriver.find_element\u001b[1;34m(self, by, value)\u001b[0m\n\u001b[0;32m    738\u001b[0m     by \u001b[38;5;241m=\u001b[39m By\u001b[38;5;241m.\u001b[39mCSS_SELECTOR\n\u001b[0;32m    739\u001b[0m     value \u001b[38;5;241m=\u001b[39m \u001b[38;5;124mf\u001b[39m\u001b[38;5;124m'\u001b[39m\u001b[38;5;124m[name=\u001b[39m\u001b[38;5;124m\"\u001b[39m\u001b[38;5;132;01m{\u001b[39;00mvalue\u001b[38;5;132;01m}\u001b[39;00m\u001b[38;5;124m\"\u001b[39m\u001b[38;5;124m]\u001b[39m\u001b[38;5;124m'\u001b[39m\n\u001b[1;32m--> 741\u001b[0m \u001b[38;5;28;01mreturn\u001b[39;00m \u001b[38;5;28mself\u001b[39m\u001b[38;5;241m.\u001b[39mexecute(Command\u001b[38;5;241m.\u001b[39mFIND_ELEMENT, {\u001b[38;5;124m\"\u001b[39m\u001b[38;5;124musing\u001b[39m\u001b[38;5;124m\"\u001b[39m: by, \u001b[38;5;124m\"\u001b[39m\u001b[38;5;124mvalue\u001b[39m\u001b[38;5;124m\"\u001b[39m: value})[\u001b[38;5;124m\"\u001b[39m\u001b[38;5;124mvalue\u001b[39m\u001b[38;5;124m\"\u001b[39m]\n",
      "File \u001b[1;32mc:\\Users\\arthu\\Anaconda3\\envs\\environment\\Lib\\site-packages\\selenium\\webdriver\\remote\\webdriver.py:347\u001b[0m, in \u001b[0;36mWebDriver.execute\u001b[1;34m(self, driver_command, params)\u001b[0m\n\u001b[0;32m    345\u001b[0m response \u001b[38;5;241m=\u001b[39m \u001b[38;5;28mself\u001b[39m\u001b[38;5;241m.\u001b[39mcommand_executor\u001b[38;5;241m.\u001b[39mexecute(driver_command, params)\n\u001b[0;32m    346\u001b[0m \u001b[38;5;28;01mif\u001b[39;00m response:\n\u001b[1;32m--> 347\u001b[0m     \u001b[38;5;28mself\u001b[39m\u001b[38;5;241m.\u001b[39merror_handler\u001b[38;5;241m.\u001b[39mcheck_response(response)\n\u001b[0;32m    348\u001b[0m     response[\u001b[38;5;124m\"\u001b[39m\u001b[38;5;124mvalue\u001b[39m\u001b[38;5;124m\"\u001b[39m] \u001b[38;5;241m=\u001b[39m \u001b[38;5;28mself\u001b[39m\u001b[38;5;241m.\u001b[39m_unwrap_value(response\u001b[38;5;241m.\u001b[39mget(\u001b[38;5;124m\"\u001b[39m\u001b[38;5;124mvalue\u001b[39m\u001b[38;5;124m\"\u001b[39m, \u001b[38;5;28;01mNone\u001b[39;00m))\n\u001b[0;32m    349\u001b[0m     \u001b[38;5;28;01mreturn\u001b[39;00m response\n",
      "File \u001b[1;32mc:\\Users\\arthu\\Anaconda3\\envs\\environment\\Lib\\site-packages\\selenium\\webdriver\\remote\\errorhandler.py:229\u001b[0m, in \u001b[0;36mErrorHandler.check_response\u001b[1;34m(self, response)\u001b[0m\n\u001b[0;32m    227\u001b[0m         alert_text \u001b[38;5;241m=\u001b[39m value[\u001b[38;5;124m\"\u001b[39m\u001b[38;5;124malert\u001b[39m\u001b[38;5;124m\"\u001b[39m]\u001b[38;5;241m.\u001b[39mget(\u001b[38;5;124m\"\u001b[39m\u001b[38;5;124mtext\u001b[39m\u001b[38;5;124m\"\u001b[39m)\n\u001b[0;32m    228\u001b[0m     \u001b[38;5;28;01mraise\u001b[39;00m exception_class(message, screen, stacktrace, alert_text)  \u001b[38;5;66;03m# type: ignore[call-arg]  # mypy is not smart enough here\u001b[39;00m\n\u001b[1;32m--> 229\u001b[0m \u001b[38;5;28;01mraise\u001b[39;00m exception_class(message, screen, stacktrace)\n",
      "\u001b[1;31mNoSuchWindowException\u001b[0m: Message: no such window: target window already closed\nfrom unknown error: web view not found\n  (Session info: MicrosoftEdge=123.0.2420.97)\nStacktrace:\n\tGetHandleVerifier [0x00007FF7BA5E5B82+59842]\n\tMicrosoft::Applications::Events::ILogConfiguration::operator* [0x00007FF7BA574AB2+220434]\n\t(No symbol) [0x00007FF7BA39DCD7]\n\t(No symbol) [0x00007FF7BA37B537]\n\t(No symbol) [0x00007FF7BA40A139]\n\t(No symbol) [0x00007FF7BA41CA82]\n\t(No symbol) [0x00007FF7BA403B93]\n\t(No symbol) [0x00007FF7BA3D960E]\n\t(No symbol) [0x00007FF7BA3D87CC]\n\t(No symbol) [0x00007FF7BA3D91C1]\n\tMicrosoft::Applications::Events::EventProperty::to_string [0x00007FF7BA7958FC+1052188]\n\t(No symbol) [0x00007FF7BA44FFC6]\n\tMicrosoft::Applications::Events::EventProperty::~EventProperty [0x00007FF7BA4F150C+37916]\n\tMicrosoft::Applications::Events::EventProperty::~EventProperty [0x00007FF7BA4E8E95+3493]\n\tMicrosoft::Applications::Events::EventProperty::to_string [0x00007FF7BA794865+1047941]\n\tMicrosoft::Applications::Events::ILogConfiguration::operator* [0x00007FF7BA57D2C1+255265]\n\tMicrosoft::Applications::Events::ILogConfiguration::operator* [0x00007FF7BA5785B4+235540]\n\tMicrosoft::Applications::Events::ILogConfiguration::operator* [0x00007FF7BA5786EB+235851]\n\tMicrosoft::Applications::Events::ILogConfiguration::operator* [0x00007FF7BA56FEE1+201025]\n\tBaseThreadInitThunk [0x00007FFF7A4F257D+29]\n\tRtlUserThreadStart [0x00007FFF7A74AA48+40]\n"
     ]
    }
   ],
   "source": [
    "import os\n",
    "import sys\n",
    "sys.path.append(\"..\")\n",
    "os.chdir(os.path.join(os.getcwd()))\n",
    "\n",
    "import pandas as pd\n",
    "\n",
    "from src.rewe_data_scraper import scrape_product_category_data\n",
    "\n",
    "from selenium import webdriver\n",
    "from selenium.webdriver.edge.options import Options\n",
    "from selenium.webdriver.edge.service import Service\n",
    "from selenium.webdriver.common.by import By\n",
    "from selenium.webdriver.support.ui import WebDriverWait\n",
    "from selenium.webdriver.support import expected_conditions as EC\n",
    "from selenium.common.exceptions import NoSuchElementException, TimeoutException\n",
    "\n",
    "CATEGORIES = [\n",
    "    'angebote', 'vegane-vielfalt', 'international', 'regional', 'weinfreunde',\n",
    "    'obst-gemuese', 'fleisch-fisch', 'kaese-eier-molkerei', 'tiefkuehlkost',\n",
    "    'brot-cerealien-aufstriche', 'kochen-backen', 'oele-sossen-gewuerze',\n",
    "    'fertiggerichte-konserven', 'suesses-salziges', 'kaffee-tee-kakao',\n",
    "    'getraenke-genussmittel', 'drogerie-kosmetik', 'babybedarf', 'tier',\n",
    "    'kueche-haushalt', 'haus-freizeit'\n",
    "]\n",
    "\n",
    "# ... previous imports and CATEGORIES list ...\n",
    "\n",
    "edge_options_dict = {\n",
    "    \"remote-debugging-port\": 9222,\n",
    "    \"edge_driver_path\": \"C:\\\\Users\\\\arthu\\\\Tools\\\\WebDriver\\\\edgedriver_win64\\\\msedgedriver.exe\",\n",
    "    \"rewe_url\": 'https://shop.rewe.de/',\n",
    "    \"waiting_duration\": 10,\n",
    "}\n",
    "\n",
    "# Initialize Options instance correctly\n",
    "edge_options = Options()\n",
    "edge_options.use_chromium = True\n",
    "edge_options.add_experimental_option(\"debuggerAddress\", f\"localhost:{edge_options_dict['remote-debugging-port']}\")\n",
    "\n",
    "# Set up driver\n",
    "service = Service(edge_options_dict[\"edge_driver_path\"])\n",
    "driver = webdriver.Edge(service=service, options=edge_options)\n",
    "\n",
    "# ... remaining setup ...\n",
    "\n",
    "dataframes = []\n",
    "\n",
    "for category in CATEGORIES:\n",
    "    # Navigate to the category page\n",
    "    driver.get(f\"{edge_options_dict['rewe_url']}c/{category}/?source=homepage-category\")\n",
    "\n",
    "    # Assume scrape_product_category_data is correctly defined elsewhere\n",
    "    category_df = scrape_product_category_data(driver.page_source, category)\n",
    "    dataframes.append(category_df)\n",
    "    # Need to add delay here if necessary before going to the next page\n",
    "\n",
    "# Concatenate dataframes after the loop\n",
    "dfs = pd.concat(dataframes, ignore_index=True)\n",
    "dfs.reset_index(drop=True, inplace=True)\n",
    "driver.close()"
   ]
  }
 ],
 "metadata": {
  "kernelspec": {
   "display_name": "environment",
   "language": "python",
   "name": "python3"
  },
  "language_info": {
   "codemirror_mode": {
    "name": "ipython",
    "version": 3
   },
   "file_extension": ".py",
   "mimetype": "text/x-python",
   "name": "python",
   "nbconvert_exporter": "python",
   "pygments_lexer": "ipython3",
   "version": "3.11.7"
  }
 },
 "nbformat": 4,
 "nbformat_minor": 2
}
